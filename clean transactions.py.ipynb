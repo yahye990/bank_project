{
 "cells": [
  {
   "cell_type": "code",
   "id": "initial_id",
   "metadata": {
    "collapsed": true,
    "ExecuteTime": {
     "end_time": "2025-05-31T10:29:45.053228Z",
     "start_time": "2025-05-31T10:29:43.850401Z"
    }
   },
   "source": [
    "import  pandas as pd\n",
    "df = pd.read_csv('/Users/yahyeabdiasis/Documents/bank_project ym/transactions.csv', low_memory=False)\n",
    "\n",
    "\n",
    "\n",
    "df.head()       # Första raderna\n",
    "df.info()       # Info om datatyper och nulls\n",
    "df.describe()\n",
    "df.dropna(inplace=True)\n",
    "df.isnull().sum()\n",
    "len(df)\n",
    "df['amount'] = pd.to_numeric(df['amount'], errors='coerce')\n",
    "\n",
    "# Konvertera 'timestamp' till datetime\n",
    "df['timestamp'] = pd.to_datetime(df['timestamp'],errors='coerce')\n",
    "\n",
    "# Kontrollera resultatet\n",
    "print(df.dtypes)\n",
    "\n",
    "df = df.dropna(axis=0,)\n",
    "accepterade_valutor = ['SEK', 'DKK', 'USD', 'EUR', 'NOK', 'RMB', 'ZAR', 'GBP', 'ZMW', 'JPY']\n",
    "# Rensa mellanslag runt valutakoden\n",
    "df['currency'] = df['currency'].str.strip()\n",
    "\n",
    "# Korrigera felstavningar, t.ex. 'SKR' → 'SEK'\n",
    "df['currency'] = df['currency'].replace({'SKR': 'SEK'})\n",
    "\n",
    "# Lista med accepterade valutor\n",
    "accepterade_valutor = ['SEK', 'DKK', 'USD', 'EUR', 'NOK', 'RMB', 'ZAR', 'GBP', 'ZMW', 'JPY']\n",
    "\n",
    "\n",
    "# Filtrera bort rader med ogiltiga valutor\n",
    "df = df[df['currency'].isin(accepterade_valutor)]\n",
    "for col in df.columns:\n",
    "    if df[col].dtype == 'object':\n",
    "        df[col] = df[col].str.title()\n",
    "\n",
    "df.to_csv('new_transactions_data.csv', index=False)\n",
    "print(df.columns.tolist())\n",
    "\n"
   ],
   "outputs": [
    {
     "name": "stdout",
     "output_type": "stream",
     "text": [
      "<class 'pandas.core.frame.DataFrame'>\n",
      "RangeIndex: 100000 entries, 0 to 99999\n",
      "Data columns (total 12 columns):\n",
      " #   Column                 Non-Null Count   Dtype  \n",
      "---  ------                 --------------   -----  \n",
      " 0   transaction_id         100000 non-null  object \n",
      " 1   timestamp              100000 non-null  object \n",
      " 2   amount                 100000 non-null  float64\n",
      " 3   currency               100000 non-null  object \n",
      " 4   sender_account         100000 non-null  object \n",
      " 5   receiver_account       100000 non-null  object \n",
      " 6   sender_country         99500 non-null   object \n",
      " 7   sender_municipality    99500 non-null   object \n",
      " 8   receiver_country       99500 non-null   object \n",
      " 9   receiver_municipality  99500 non-null   object \n",
      " 10  transaction_type       100000 non-null  object \n",
      " 11  notes                  90052 non-null   object \n",
      "dtypes: float64(1), object(11)\n",
      "memory usage: 9.2+ MB\n",
      "transaction_id                   object\n",
      "timestamp                datetime64[ns]\n",
      "amount                          float64\n",
      "currency                         object\n",
      "sender_account                   object\n",
      "receiver_account                 object\n",
      "sender_country                   object\n",
      "sender_municipality              object\n",
      "receiver_country                 object\n",
      "receiver_municipality            object\n",
      "transaction_type                 object\n",
      "notes                            object\n",
      "dtype: object\n",
      "['transaction_id', 'timestamp', 'amount', 'currency', 'sender_account', 'receiver_account', 'sender_country', 'sender_municipality', 'receiver_country', 'receiver_municipality', 'transaction_type', 'notes']\n"
     ]
    }
   ],
   "execution_count": 1
  },
  {
   "metadata": {},
   "cell_type": "code",
   "outputs": [],
   "execution_count": null,
   "source": "",
   "id": "71796a29fe31c478"
  }
 ],
 "metadata": {
  "kernelspec": {
   "display_name": "Python 3",
   "language": "python",
   "name": "python3"
  },
  "language_info": {
   "codemirror_mode": {
    "name": "ipython",
    "version": 2
   },
   "file_extension": ".py",
   "mimetype": "text/x-python",
   "name": "python",
   "nbconvert_exporter": "python",
   "pygments_lexer": "ipython2",
   "version": "2.7.6"
  }
 },
 "nbformat": 4,
 "nbformat_minor": 5
}
